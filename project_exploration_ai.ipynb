{
 "cells": [
  {
   "cell_type": "code",
   "execution_count": 88,
   "id": "025ea2c2-cae5-41c9-a045-f83b4e6b3127",
   "metadata": {},
   "outputs": [
    {
     "name": "stdout",
     "output_type": "stream",
     "text": [
      "Requirement already satisfied: sentence-transformers in c:\\users\\kmeng\\anaconda3\\lib\\site-packages (3.2.1)\n",
      "Requirement already satisfied: transformers<5.0.0,>=4.41.0 in c:\\users\\kmeng\\anaconda3\\lib\\site-packages (from sentence-transformers) (4.46.0)\n",
      "Requirement already satisfied: tqdm in c:\\users\\kmeng\\anaconda3\\lib\\site-packages (from sentence-transformers) (4.66.4)\n",
      "Requirement already satisfied: torch>=1.11.0 in c:\\users\\kmeng\\anaconda3\\lib\\site-packages (from sentence-transformers) (2.5.0)\n",
      "Requirement already satisfied: scikit-learn in c:\\users\\kmeng\\anaconda3\\lib\\site-packages (from sentence-transformers) (1.4.2)\n",
      "Requirement already satisfied: scipy in c:\\users\\kmeng\\anaconda3\\lib\\site-packages (from sentence-transformers) (1.13.1)\n",
      "Requirement already satisfied: huggingface-hub>=0.20.0 in c:\\users\\kmeng\\anaconda3\\lib\\site-packages (from sentence-transformers) (0.26.1)\n",
      "Requirement already satisfied: Pillow in c:\\users\\kmeng\\anaconda3\\lib\\site-packages (from sentence-transformers) (10.3.0)\n",
      "Requirement already satisfied: filelock in c:\\users\\kmeng\\anaconda3\\lib\\site-packages (from huggingface-hub>=0.20.0->sentence-transformers) (3.13.1)\n",
      "Requirement already satisfied: fsspec>=2023.5.0 in c:\\users\\kmeng\\anaconda3\\lib\\site-packages (from huggingface-hub>=0.20.0->sentence-transformers) (2024.3.1)\n",
      "Requirement already satisfied: packaging>=20.9 in c:\\users\\kmeng\\anaconda3\\lib\\site-packages (from huggingface-hub>=0.20.0->sentence-transformers) (23.2)\n",
      "Requirement already satisfied: pyyaml>=5.1 in c:\\users\\kmeng\\anaconda3\\lib\\site-packages (from huggingface-hub>=0.20.0->sentence-transformers) (6.0.1)\n",
      "Requirement already satisfied: requests in c:\\users\\kmeng\\anaconda3\\lib\\site-packages (from huggingface-hub>=0.20.0->sentence-transformers) (2.32.2)\n",
      "Requirement already satisfied: typing-extensions>=3.7.4.3 in c:\\users\\kmeng\\anaconda3\\lib\\site-packages (from huggingface-hub>=0.20.0->sentence-transformers) (4.11.0)\n",
      "Requirement already satisfied: networkx in c:\\users\\kmeng\\anaconda3\\lib\\site-packages (from torch>=1.11.0->sentence-transformers) (3.2.1)\n",
      "Requirement already satisfied: jinja2 in c:\\users\\kmeng\\anaconda3\\lib\\site-packages (from torch>=1.11.0->sentence-transformers) (3.1.4)\n",
      "Requirement already satisfied: setuptools in c:\\users\\kmeng\\anaconda3\\lib\\site-packages (from torch>=1.11.0->sentence-transformers) (69.5.1)\n",
      "Requirement already satisfied: sympy==1.13.1 in c:\\users\\kmeng\\anaconda3\\lib\\site-packages (from torch>=1.11.0->sentence-transformers) (1.13.1)\n",
      "Requirement already satisfied: mpmath<1.4,>=1.1.0 in c:\\users\\kmeng\\anaconda3\\lib\\site-packages (from sympy==1.13.1->torch>=1.11.0->sentence-transformers) (1.3.0)\n",
      "Requirement already satisfied: colorama in c:\\users\\kmeng\\anaconda3\\lib\\site-packages (from tqdm->sentence-transformers) (0.4.6)\n",
      "Requirement already satisfied: numpy>=1.17 in c:\\users\\kmeng\\anaconda3\\lib\\site-packages (from transformers<5.0.0,>=4.41.0->sentence-transformers) (1.26.4)\n",
      "Requirement already satisfied: regex!=2019.12.17 in c:\\users\\kmeng\\anaconda3\\lib\\site-packages (from transformers<5.0.0,>=4.41.0->sentence-transformers) (2023.10.3)\n",
      "Requirement already satisfied: safetensors>=0.4.1 in c:\\users\\kmeng\\anaconda3\\lib\\site-packages (from transformers<5.0.0,>=4.41.0->sentence-transformers) (0.4.5)\n",
      "Requirement already satisfied: tokenizers<0.21,>=0.20 in c:\\users\\kmeng\\anaconda3\\lib\\site-packages (from transformers<5.0.0,>=4.41.0->sentence-transformers) (0.20.1)\n",
      "Requirement already satisfied: joblib>=1.2.0 in c:\\users\\kmeng\\anaconda3\\lib\\site-packages (from scikit-learn->sentence-transformers) (1.4.2)\n",
      "Requirement already satisfied: threadpoolctl>=2.0.0 in c:\\users\\kmeng\\anaconda3\\lib\\site-packages (from scikit-learn->sentence-transformers) (2.2.0)\n",
      "Requirement already satisfied: MarkupSafe>=2.0 in c:\\users\\kmeng\\anaconda3\\lib\\site-packages (from jinja2->torch>=1.11.0->sentence-transformers) (2.1.3)\n",
      "Requirement already satisfied: charset-normalizer<4,>=2 in c:\\users\\kmeng\\anaconda3\\lib\\site-packages (from requests->huggingface-hub>=0.20.0->sentence-transformers) (2.0.4)\n",
      "Requirement already satisfied: idna<4,>=2.5 in c:\\users\\kmeng\\anaconda3\\lib\\site-packages (from requests->huggingface-hub>=0.20.0->sentence-transformers) (3.7)\n",
      "Requirement already satisfied: urllib3<3,>=1.21.1 in c:\\users\\kmeng\\anaconda3\\lib\\site-packages (from requests->huggingface-hub>=0.20.0->sentence-transformers) (2.2.2)\n",
      "Requirement already satisfied: certifi>=2017.4.17 in c:\\users\\kmeng\\anaconda3\\lib\\site-packages (from requests->huggingface-hub>=0.20.0->sentence-transformers) (2024.7.4)\n"
     ]
    }
   ],
   "source": [
    "!pip install sentence-transformers"
   ]
  },
  {
   "cell_type": "code",
   "execution_count": 89,
   "id": "6d2b811f-1467-4e71-870c-16c5fd307614",
   "metadata": {},
   "outputs": [
    {
     "name": "stdout",
     "output_type": "stream",
     "text": [
      "✓ Imports successful!\n"
     ]
    }
   ],
   "source": [
    "# Import required libraries\n",
    "from sentence_transformers import SentenceTransformer\n",
    "import numpy as np\n",
    "\n",
    "# Simple test to ensure everything works\n",
    "print(\"✓ Imports successful!\")"
   ]
  },
  {
   "cell_type": "code",
   "execution_count": 90,
   "id": "62ab41a3-3e0b-4266-baa2-2a851fd8ba3f",
   "metadata": {},
   "outputs": [
    {
     "name": "stdout",
     "output_type": "stream",
     "text": [
      "Created 8 notes\n"
     ]
    }
   ],
   "source": [
    "# Initialize our collection of notes\n",
    "notes = [\n",
    "    \"Python lists are mutable sequences used to store collections of items. They can contain mixed types and are defined using square brackets.\",\n",
    "    \"Lists in Python can be modified after creation. Common operations include append(), extend(), and insert().\",\n",
    "    \"Data structures are fundamental building blocks in programming. They help organize and store data efficiently.\",\n",
    "    \"Arrays in NumPy provide efficient storage and operations for numerical data. They are widely used in scientific computing.\",\n",
    "    \"Object-oriented programming in Python uses classes and objects. Classes define the structure and behavior of objects.\",\n",
    "    \"The pandas library is built on top of NumPy and provides powerful data manipulation tools through DataFrames.\",\n",
    "    \"Version control with Git helps track changes in code. Common commands include commit, push, and pull.\",\n",
    "    \"Python functions are defined using the def keyword. They can accept parameters and return values.\",\n",
    "]\n",
    "\n",
    "# Print the number of notes we have\n",
    "print(f\"Created {len(notes)} notes\")"
   ]
  },
  {
   "cell_type": "code",
   "execution_count": 91,
   "id": "699338b9-40a2-4095-8264-b14a7d5bab94",
   "metadata": {},
   "outputs": [
    {
     "name": "stdout",
     "output_type": "stream",
     "text": [
      "\n",
      "Note 1 (Length: 138 characters):\n",
      "==================================================\n",
      "Python lists are mutable sequences used to store collections of items. They can contain mixed types and are defined using square brackets.\n",
      "\n",
      "Note 2 (Length: 107 characters):\n",
      "==================================================\n",
      "Lists in Python can be modified after creation. Common operations include append(), extend(), and insert().\n",
      "\n",
      "Note 3 (Length: 110 characters):\n",
      "==================================================\n",
      "Data structures are fundamental building blocks in programming. They help organize and store data efficiently.\n",
      "\n",
      "Note 4 (Length: 122 characters):\n",
      "==================================================\n",
      "Arrays in NumPy provide efficient storage and operations for numerical data. They are widely used in scientific computing.\n",
      "\n",
      "Note 5 (Length: 117 characters):\n",
      "==================================================\n",
      "Object-oriented programming in Python uses classes and objects. Classes define the structure and behavior of objects.\n",
      "\n",
      "Note 6 (Length: 109 characters):\n",
      "==================================================\n",
      "The pandas library is built on top of NumPy and provides powerful data manipulation tools through DataFrames.\n",
      "\n",
      "Note 7 (Length: 101 characters):\n",
      "==================================================\n",
      "Version control with Git helps track changes in code. Common commands include commit, push, and pull.\n",
      "\n",
      "Note 8 (Length: 97 characters):\n",
      "==================================================\n",
      "Python functions are defined using the def keyword. They can accept parameters and return values.\n"
     ]
    }
   ],
   "source": [
    "# Print each note with its length\n",
    "for i, note in enumerate(notes):\n",
    "    print(f\"\\nNote {i+1} (Length: {len(note)} characters):\")\n",
    "    print(f\"{'='*50}\")\n",
    "    print(note)"
   ]
  },
  {
   "cell_type": "code",
   "execution_count": 92,
   "id": "58310018-b187-4ce6-bbd6-45f9fe1cf049",
   "metadata": {},
   "outputs": [
    {
     "name": "stdout",
     "output_type": "stream",
     "text": [
      "Average words per note: 16.8\n",
      "Shortest note: 15 words\n",
      "Longest note: 22 words\n"
     ]
    }
   ],
   "source": [
    "# Quick analysis of our notes\n",
    "note_lengths = [len(note.split()) for note in notes]\n",
    "\n",
    "print(f\"Average words per note: {sum(note_lengths)/len(note_lengths):.1f}\")\n",
    "print(f\"Shortest note: {min(note_lengths)} words\")\n",
    "print(f\"Longest note: {max(note_lengths)} words\")"
   ]
  },
  {
   "cell_type": "code",
   "execution_count": 93,
   "id": "ff4e3e9b-7dbb-4955-8851-a3b961d9eef0",
   "metadata": {},
   "outputs": [
    {
     "name": "stdout",
     "output_type": "stream",
     "text": [
      "Model loaded successfully!\n"
     ]
    }
   ],
   "source": [
    "from sentence_transformers import SentenceTransformer\n",
    "\n",
    "# Load the model - this may take a few seconds\n",
    "model = SentenceTransformer('all-MiniLM-L6-v2')\n",
    "\n",
    "print(\"Model loaded successfully!\")"
   ]
  },
  {
   "cell_type": "code",
   "execution_count": 94,
   "id": "47f2d563-33cc-4f93-a409-9dfb4d45b33c",
   "metadata": {},
   "outputs": [
    {
     "name": "stdout",
     "output_type": "stream",
     "text": [
      "Embedding shape: (384,)\n",
      "First 5 values: [ 0.03313293 -0.02813718  0.10922702  0.02421218  0.04646194]\n"
     ]
    }
   ],
   "source": [
    "# Create an embedding for a simple sentence\n",
    "test_sentence = \"This is a test sentence to understand embeddings.\"\n",
    "embedding = model.encode(test_sentence)\n",
    "\n",
    "# Look at the embedding's properties\n",
    "print(f\"Embedding shape: {embedding.shape}\")\n",
    "print(f\"First 5 values: {embedding[:5]}\")"
   ]
  },
  {
   "cell_type": "code",
   "execution_count": 95,
   "id": "a17fc2be-13f4-4592-8ec8-1cc50452eed2",
   "metadata": {},
   "outputs": [
    {
     "name": "stdout",
     "output_type": "stream",
     "text": [
      "Number of embeddings: 3\n",
      "Shape of each embedding: (384,)\n"
     ]
    }
   ],
   "source": [
    "# Create embeddings for a few test sentences\n",
    "test_sentences = [\n",
    "    \"Python is a programming language\",\n",
    "    \"Programming languages are used to write software\",\n",
    "    \"Pythons are large snakes\"\n",
    "]\n",
    "\n",
    "# Generate embeddings for all sentences at once\n",
    "embeddings = model.encode(test_sentences)\n",
    "\n",
    "print(f\"Number of embeddings: {len(embeddings)}\")\n",
    "print(f\"Shape of each embedding: {embeddings[0].shape}\")"
   ]
  },
  {
   "cell_type": "code",
   "execution_count": 96,
   "id": "e01a5001-f3df-4493-b14f-382687d2b486",
   "metadata": {},
   "outputs": [
    {
     "name": "stdout",
     "output_type": "stream",
     "text": [
      "\n",
      "Similarity between:\n",
      "'Python is a programming language' and\n",
      "'Programming languages are used to write software':\n",
      "0.657\n",
      "\n",
      "Similarity between:\n",
      "'Python is a programming language' and\n",
      "'Pythons are large snakes':\n",
      "0.497\n",
      "\n",
      "Similarity between:\n",
      "'Programming languages are used to write software' and\n",
      "'Pythons are large snakes':\n",
      "0.119\n"
     ]
    }
   ],
   "source": [
    "import numpy as np\n",
    "\n",
    "# Calculate similarities between sentences\n",
    "def calculate_similarity(emb1, emb2):\n",
    "    return np.dot(emb1, emb2) / (np.linalg.norm(emb1) * np.linalg.norm(emb2))\n",
    "\n",
    "# Get similarities between all pairs\n",
    "for i in range(len(test_sentences)):\n",
    "    for j in range(i + 1, len(test_sentences)):\n",
    "        similarity = calculate_similarity(embeddings[i], embeddings[j])\n",
    "        print(f\"\\nSimilarity between:\\n'{test_sentences[i]}' and\\n'{test_sentences[j]}':\\n{similarity:.3f}\")"
   ]
  },
  {
   "cell_type": "code",
   "execution_count": 97,
   "id": "fbb285e3-c2b2-401b-8d5f-c4c2f12d418e",
   "metadata": {},
   "outputs": [
    {
     "name": "stdout",
     "output_type": "stream",
     "text": [
      "Created embeddings for 8 notes\n",
      "Each embedding has shape: (384,)\n"
     ]
    }
   ],
   "source": [
    "# Convert all notes to embeddings\n",
    "note_embeddings = model.encode(notes)\n",
    "\n",
    "print(f\"Created embeddings for {len(notes)} notes\")\n",
    "print(f\"Each embedding has shape: {note_embeddings[0].shape}\")"
   ]
  },
  {
   "cell_type": "code",
   "execution_count": 98,
   "id": "61c9f507-4108-469d-aabd-61910aff31ea",
   "metadata": {},
   "outputs": [],
   "source": [
    "def search_notes(query, top_k=3):\n",
    "    # Convert search query to embedding\n",
    "    query_embedding = model.encode(query)\n",
    "    \n",
    "    # Calculate similarities with all notes\n",
    "    similarities = np.dot(note_embeddings, query_embedding) / (\n",
    "        np.linalg.norm(note_embeddings, axis=1) * np.linalg.norm(query_embedding)\n",
    "    )\n",
    "    \n",
    "    # Get top k matches\n",
    "    top_idx = np.argsort(similarities)[::-1][:top_k]\n",
    "    \n",
    "    # A list of dictionaries\n",
    "    results = []\n",
    "    for idx in top_idx:\n",
    "        results.append({\n",
    "            'note': notes[idx],\n",
    "            'similarity': similarities[idx]\n",
    "        })\n",
    "        \n",
    "    # Return matching notes with thier similarity scores\n",
    "    return results"
   ]
  },
  {
   "cell_type": "code",
   "execution_count": 99,
   "id": "bcb58dd2-c6a4-496e-b091-b84de5d597a4",
   "metadata": {},
   "outputs": [
    {
     "name": "stdout",
     "output_type": "stream",
     "text": [
      "\n",
      "Search Query: 'How do Python lists work?'\n",
      "==================================================\n",
      "\n",
      "1. Match (79.09% similar):\n",
      "Python lists are mutable sequences used to store collections of items. They can contain mixed types and are defined using square brackets.\n",
      "\n",
      "2. Match (72.10% similar):\n",
      "Lists in Python can be modified after creation. Common operations include append(), extend(), and insert().\n",
      "\n",
      "3. Match (52.82% similar):\n",
      "Object-oriented programming in Python uses classes and objects. Classes define the structure and behavior of objects.\n",
      "\n",
      "Search Query: 'Tell me about data structures'\n",
      "==================================================\n",
      "\n",
      "1. Match (84.95% similar):\n",
      "Data structures are fundamental building blocks in programming. They help organize and store data efficiently.\n",
      "\n",
      "2. Match (36.30% similar):\n",
      "Object-oriented programming in Python uses classes and objects. Classes define the structure and behavior of objects.\n",
      "\n",
      "3. Match (34.01% similar):\n",
      "Arrays in NumPy provide efficient storage and operations for numerical data. They are widely used in scientific computing.\n",
      "\n",
      "Search Query: 'What is object oriented programming?'\n",
      "==================================================\n",
      "\n",
      "1. Match (68.08% similar):\n",
      "Object-oriented programming in Python uses classes and objects. Classes define the structure and behavior of objects.\n",
      "\n",
      "2. Match (42.41% similar):\n",
      "Data structures are fundamental building blocks in programming. They help organize and store data efficiently.\n",
      "\n",
      "3. Match (25.97% similar):\n",
      "Version control with Git helps track changes in code. Common commands include commit, push, and pull.\n"
     ]
    }
   ],
   "source": [
    "# Function to display search results nicely\n",
    "def display_results(query, results):\n",
    "    print(f\"\\nSearch Query: '{query}'\")\n",
    "    print(\"=\" * 50)\n",
    "    for i, r in enumerate(results, 1):\n",
    "        print(f\"\\n{i}. Match ({r['similarity']:.2%} similar):\")\n",
    "        print(r['note'])\n",
    "\n",
    "# Try some example searches\n",
    "queries = [\n",
    "    \"How do Python lists work?\",\n",
    "    \"Tell me about data structures\",\n",
    "    \"What is object oriented programming?\"\n",
    "]\n",
    "\n",
    "for query in queries:\n",
    "    results = search_notes(query)\n",
    "    display_results(query, results)"
   ]
  },
  {
   "cell_type": "code",
   "execution_count": 100,
   "id": "263e8e3d-0b7b-4f17-b885-9ef600a089c2",
   "metadata": {},
   "outputs": [
    {
     "name": "stdout",
     "output_type": "stream",
     "text": [
      "\n",
      "Search Query: 'What's arrays?'\n",
      "==================================================\n",
      "\n",
      "1. Match (60.51% similar):\n",
      "Arrays in NumPy provide efficient storage and operations for numerical data. They are widely used in scientific computing.\n",
      "\n",
      "2. Match (42.02% similar):\n",
      "Python lists are mutable sequences used to store collections of items. They can contain mixed types and are defined using square brackets.\n",
      "\n",
      "3. Match (40.42% similar):\n",
      "Data structures are fundamental building blocks in programming. They help organize and store data efficiently.\n"
     ]
    }
   ],
   "source": [
    "# Test with your own query\n",
    "my_query = \"What's arrays?\"\n",
    "results = search_notes(my_query)\n",
    "display_results(my_query, results)"
   ]
  },
  {
   "cell_type": "code",
   "execution_count": 101,
   "id": "e5987d5a-a2da-4dfd-9241-f7a4be34f4a7",
   "metadata": {},
   "outputs": [],
   "source": [
    "# Structure notes with categories\n",
    "notes = [\n",
    "    {\n",
    "        'content': \"Python lists are mutable sequences...\",\n",
    "        'category': \"Python Basics\",\n",
    "        'tags': [\"data structures\", \"lists\"]\n",
    "    }\n",
    "]"
   ]
  },
  {
   "cell_type": "code",
   "execution_count": 102,
   "id": "b70b9bbe-a12e-4586-8d43-9fca55de771a",
   "metadata": {},
   "outputs": [],
   "source": [
    "def search_notes(query, min_similarity=0.5):\n",
    "    # Only return results above similarity threshold\n",
    "    results = [r for r in results if r['similarity'] >= min_similarity]"
   ]
  },
  {
   "cell_type": "code",
   "execution_count": 103,
   "id": "7790744d-d51e-4012-96d1-a7a8c2122fc5",
   "metadata": {},
   "outputs": [],
   "source": [
    "def chunk_note(note, max_words=50):\n",
    "    # Split long notes into smaller chunks\n",
    "    words = note.split()\n",
    "    return [' '.join(words[i:i+max_words]) \n",
    "            for i in range(0, len(words), max_words)]"
   ]
  },
  {
   "cell_type": "code",
   "execution_count": null,
   "id": "5ff4682e-29e0-4427-b5a9-d04f12e393e1",
   "metadata": {},
   "outputs": [],
   "source": []
  }
 ],
 "metadata": {
  "kernelspec": {
   "display_name": "Python 3 (ipykernel)",
   "language": "python",
   "name": "python3"
  },
  "language_info": {
   "codemirror_mode": {
    "name": "ipython",
    "version": 3
   },
   "file_extension": ".py",
   "mimetype": "text/x-python",
   "name": "python",
   "nbconvert_exporter": "python",
   "pygments_lexer": "ipython3",
   "version": "3.12.4"
  }
 },
 "nbformat": 4,
 "nbformat_minor": 5
}
